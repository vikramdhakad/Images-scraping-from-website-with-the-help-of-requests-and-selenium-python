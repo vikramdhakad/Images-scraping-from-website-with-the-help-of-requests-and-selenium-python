{
 "cells": [
  {
   "cell_type": "markdown",
   "id": "4d360f10",
   "metadata": {},
   "source": [
    "# Import Required libraries"
   ]
  },
  {
   "cell_type": "code",
   "execution_count": 21,
   "id": "9737c32e",
   "metadata": {},
   "outputs": [],
   "source": [
    "from selenium import webdriver\n",
    "from selenium.webdriver.common.by import By\n",
    "from selenium.webdriver.chrome.service import Service\n",
    "from selenium.webdriver.chrome.options import Options\n",
    "from time import sleep\n",
    "from webdriver_manager.chrome import ChromeDriverManager\n",
    "from selenium.webdriver.common.keys import Keys\n",
    "import requests"
   ]
  },
  {
   "cell_type": "markdown",
   "id": "ca302c6d",
   "metadata": {},
   "source": [
    "# Setup the Chrome Browser "
   ]
  },
  {
   "cell_type": "code",
   "execution_count": 22,
   "id": "c45cd28f",
   "metadata": {},
   "outputs": [],
   "source": [
    "chrome_options = Options()\n",
    "chrome_options.add_experimental_option(\"detach\",True)\n",
    "\n",
    "driver = webdriver.Chrome(service=Service(ChromeDriverManager().install()),options=chrome_options)"
   ]
  },
  {
   "cell_type": "markdown",
   "id": "19e4dcb2",
   "metadata": {},
   "source": [
    "# Send the request for browser by selenium"
   ]
  },
  {
   "cell_type": "code",
   "execution_count": 23,
   "id": "b04e0c25",
   "metadata": {},
   "outputs": [],
   "source": [
    "driver.get('https://unsplash.com/wallpapers/desktop/laptop')\n",
    "sleep(5)\n",
    "driver.maximize_window()\n",
    "driver.find_element(By.XPATH,'//*[@id=\"app\"]/div/div[1]/div/div[4]/div/div[2]/div[3]/div[1]/button').click()\n",
    "sleep(2)"
   ]
  },
  {
   "cell_type": "markdown",
   "id": "5c8a3b86",
   "metadata": {},
   "source": [
    "# Parse the Images links"
   ]
  },
  {
   "cell_type": "code",
   "execution_count": 27,
   "id": "13e8b3af",
   "metadata": {},
   "outputs": [],
   "source": [
    "links = []\n",
    "im = driver.find_elements(By.XPATH,'//img[@class=\"tB6UZ a5VGX\"]')\n",
    "for image in im:\n",
    "    #print(im)\n",
    "    links.append(image.get_attribute(\"src\"))\n",
    "    #im.screenshot('D:\\Learnings\\Web Scraping\\images' + 'shot' + ' (' + str(image) + ').png')"
   ]
  },
  {
   "cell_type": "markdown",
   "id": "fc67141e",
   "metadata": {},
   "source": [
    "# Images downloading"
   ]
  },
  {
   "cell_type": "code",
   "execution_count": 32,
   "id": "2268c0e8",
   "metadata": {},
   "outputs": [],
   "source": [
    "for index, url in enumerate(links[:30]): \n",
    "    response = requests.get(url, stream=True)\n",
    "    \n",
    "    with open(f'img{index+1}.jpg','wb') as f:\n",
    "        for chunk in response.iter_content(chunk_size=128):\n",
    "            f.write(chunk)"
   ]
  },
  {
   "cell_type": "code",
   "execution_count": 33,
   "id": "31d60a15",
   "metadata": {},
   "outputs": [],
   "source": [
    "driver.quit()"
   ]
  },
  {
   "cell_type": "code",
   "execution_count": null,
   "id": "648e2d60",
   "metadata": {},
   "outputs": [],
   "source": []
  }
 ],
 "metadata": {
  "kernelspec": {
   "display_name": "Python 3 (ipykernel)",
   "language": "python",
   "name": "python3"
  },
  "language_info": {
   "codemirror_mode": {
    "name": "ipython",
    "version": 3
   },
   "file_extension": ".py",
   "mimetype": "text/x-python",
   "name": "python",
   "nbconvert_exporter": "python",
   "pygments_lexer": "ipython3",
   "version": "3.10.2"
  }
 },
 "nbformat": 4,
 "nbformat_minor": 5
}
